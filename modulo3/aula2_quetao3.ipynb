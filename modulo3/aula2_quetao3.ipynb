{
 "cells": [
  {
   "cell_type": "markdown",
   "metadata": {},
   "source": [
    "Você está desenvolvendo um sistema de admissão para um clube juvenil de jogos de tabuleiro. Escreva um programa em Python que pergunte ao usuário sua idade, se já jogou pelo menos 3 jogos de tabuleiro (resposta deve ser True ou False) e quantas vezes venceu um jogo. O programa deve imprimir True, permitindo o ingresso do participante no clube, se:\n",
    "tiver entre 16 e 18 anos\n",
    "já tiver jogado pelo menos 3 jogos\n",
    "já ter vencido pelo menos 1 jogo, \n",
    "Sua expressão deve imprimir False caso contrário. Aqui está um exemplo de interação com seu código no terminal, com entradas de dados destacadas em negrito e as impressões de seu código em itálico (apenas para facilitar sua visualização).\n",
    "\n",
    "Digite sua idade: 17\n",
    "Já jogou pelo menos 3 jogos de tabuleiro? True\n",
    "Quantos jogos já venceu? 2\n",
    "Apto para ingressar no clube de jogos de tabuleiro: True"
   ]
  },
  {
   "cell_type": "code",
   "execution_count": null,
   "metadata": {},
   "outputs": [],
   "source": [
    "\n",
    "print(\"Qual sua idade\")\n",
    "idade = int (input())\n",
    "print(\"Quantos Jogos Já Jogou\")\n",
    "num_jogos = int (input() ) >= 3\n",
    "print(\"Quantos Jogos Já Venceu\")\n",
    "win_jogos = int (input() )\n",
    "\n",
    "ingressar = (16 <= idade <= 18) and num_jogos and (win_jogos >= 1)\n",
    "\n",
    "print('Apto para ingressar no clube de jogos de tabuleiro:',ingressar) "
   ]
  }
 ],
 "metadata": {
  "language_info": {
   "name": "python"
  }
 },
 "nbformat": 4,
 "nbformat_minor": 2
}
