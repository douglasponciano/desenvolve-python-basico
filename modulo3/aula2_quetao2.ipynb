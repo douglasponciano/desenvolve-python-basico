{
 "cells": [
  {
   "cell_type": "code",
   "execution_count": null,
   "metadata": {},
   "outputs": [],
   "source": [
    "idade_juliane = int (input())\n",
    "idade_cris = int (input())\n",
    "\n",
    "pode_entrar = idade_juliane >=18 and idade_cris >=18\n",
    "\n",
    "print(pode_entrar)\n",
    "\n"
   ]
  }
 ],
 "metadata": {
  "language_info": {
   "name": "python"
  }
 },
 "nbformat": 4,
 "nbformat_minor": 2
}
