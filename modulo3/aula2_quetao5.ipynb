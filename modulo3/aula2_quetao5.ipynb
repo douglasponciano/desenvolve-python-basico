{
 "cells": [
  {
   "cell_type": "markdown",
   "metadata": {},
   "source": [
    "5) Solicite de um usuário seu gênero (\"M\" ou \"F\"), sua idade e seu tempo de serviço (em anos) e escreva uma expressão que imprima True se a pessoa já pode se aposentar, ou False caso contrário, de acordo com as seguintes regras:\n",
    "A: Para mulheres, ter mais de 60 anos. Para homens, 65.\n",
    "B: Ou ter trabalhado pelo menos 30 anos\n",
    "C: Ou ter 60 anos  e trabalhado pelo menos 25.\n"
   ]
  },
  {
   "cell_type": "code",
   "execution_count": null,
   "metadata": {},
   "outputs": [],
   "source": [
    "print(\"Qual o Seu Sexo M ou F\" ) \n",
    "sexo =  (input())\n",
    "print(\"Qual sua Idade:\")\n",
    "idade = int (input() )\n",
    "print(\"Tempo de Serviço:\")\n",
    "tempo = int (input() )\n",
    "\n",
    "aposentar = ( sexo == \"F\") and ( idade >  60) or ( sexo == \"M\") and ( idade >=  65) or (tempo >= 30) or (tempo >= 25 and idade == 60)\n",
    "\n",
    "print('Já Posso me Aposentar:',aposentar)"
   ]
  }
 ],
 "metadata": {
  "language_info": {
   "name": "python"
  }
 },
 "nbformat": 4,
 "nbformat_minor": 2
}
