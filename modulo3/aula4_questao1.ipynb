{
 "cells": [
  {
   "cell_type": "markdown",
   "metadata": {},
   "source": [
    " Escreva um programa que lê dois números e informa se a sua soma é par ou ímpar. Critério: se o resto da divisão do número por 2 for 0, o número é par, caso contrário é ímpar. Lembre-se do operador do python % que retorna o resto de uma divisão."
   ]
  },
  {
   "cell_type": "code",
   "execution_count": null,
   "metadata": {},
   "outputs": [],
   "source": [
    "print(\"Digite o numero 1\")\n",
    "num1 = int (input())\n",
    "\n",
    "print(\"Digite o Numero 2\")\n",
    "num2 = int (input())\n",
    "\n",
    "soma = num1 + num2\n",
    "if soma % 2 == 0:\n",
    "  print(\"Numero Par\")\n",
    "\n",
    "else:\n",
    "  print(\"Numero Impar\")"
   ]
  }
 ],
 "metadata": {
  "language_info": {
   "name": "python"
  }
 },
 "nbformat": 4,
 "nbformat_minor": 2
}
