{
 "cells": [
  {
   "cell_type": "markdown",
   "metadata": {},
   "source": [
    "Você é mestre de uma mesa de RPG e vai criar um sistema para validar uma ficha de personagem. Cada personagem tem uma classe específica com requisitos de atributos. Escreva um script que solicita a classe de personagem escolhida (guerreiro, mago ou arqueiro), os pontos de força e os pontos de magia atribuídos ao personagem. O programa deve imprimir True se os pontos de atributo são consistentes com a classe escolhida, seguindo as seguintes regras:\n",
    "Guerreiro: Força deve ser igual ou superior a 15, Magia deve ser 10 ou menos.\n",
    "Mago: Força deve ser 10 ou menos, Magia deve ser igual ou superior a 15.\n",
    "Arqueiro: Força e Magia devem ser ambos superiores a 5, mas nenhum deles pode ser superior a 15.\n",
    "O programa deve imprimir False se os pontos de atributo não são consistentes com a classe escolhida. Segue um exemplo de interação com seu código no terminal, com entradas de dados destacadas em negrito e as impressões de seu código em itálico.\n",
    "\n",
    "Escolha a classe (guerreiro, mago ou arqueiro): mago\n",
    "Digite os pontos de força (de 1 a 20): 8\n",
    "Digite os pontos de magia (de 1 a 20): 17\n",
    "Pontos de atributo consistentes com a classe escolhida: True\n"
   ]
  },
  {
   "cell_type": "code",
   "execution_count": null,
   "metadata": {},
   "outputs": [],
   "source": [
    "\n",
    "print(\"Escolha a Classe -> Guerreiro | Mago | Arqueiro\")\n",
    "classe =  (input())\n",
    "print(\"Digite os pontos de força (de 1 a 20):\")\n",
    "forca = int (input() )\n",
    "print(\"Digite os pontos de magia (de 1 a 20)\")\n",
    "magia = int (input() )\n",
    "\n",
    "pontos = ( forca >=  15) and ( magia <=  10) and classe == \"Guerreiro\" or ( forca <=  10) and ( magia >=  15) and classe == \"Mago\" or (5 <= forca <=  15) and ( 5 <= magia <=  15) and classe == \"Arqueiro\"\n",
    "\n",
    "print('Pontos de atributo consistentes com a classe escolhida:',pontos) "
   ]
  }
 ],
 "metadata": {
  "language_info": {
   "name": "python"
  }
 },
 "nbformat": 4,
 "nbformat_minor": 2
}
